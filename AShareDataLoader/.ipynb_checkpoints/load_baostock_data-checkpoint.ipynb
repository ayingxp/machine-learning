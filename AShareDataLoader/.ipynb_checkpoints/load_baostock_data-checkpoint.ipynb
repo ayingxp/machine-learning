{
 "cells": [
  {
   "cell_type": "markdown",
   "metadata": {},
   "source": [
    "# 获取Ａ股相关数据"
   ]
  },
  {
   "cell_type": "code",
   "execution_count": 3,
   "metadata": {},
   "outputs": [
    {
     "name": "stdout",
     "output_type": "stream",
     "text": [
      "login success!\n",
      "login respond error_code:0\n",
      "login respond  error_msg:success\n",
      "query_stock_industry error_code:0\n",
      "query_stock_industry respond  error_msg:success\n",
      "      updateDate       code code_name industry industryClassification\n",
      "0     2019-12-09  sh.600000      浦发银行       银行                 申万一级行业\n",
      "1     2019-12-09  sh.600001      邯郸钢铁                          申万一级行业\n",
      "2     2019-12-09  sh.600002      齐鲁石化                          申万一级行业\n",
      "3     2019-12-09  sh.600003     ST东北高                          申万一级行业\n",
      "4     2019-12-09  sh.600004      白云机场     交通运输                 申万一级行业\n",
      "...          ...        ...       ...      ...                    ...\n",
      "3849  2019-12-09  sz.300805      电声股份       传媒                 申万一级行业\n",
      "3850  2019-12-09  sz.300806       斯迪克       化工                 申万一级行业\n",
      "3851  2019-12-09  sz.300808      久量股份       电子                 申万一级行业\n",
      "3852  2019-12-09  sz.300809      华辰装备     机械设备                 申万一级行业\n",
      "3853  2019-12-09  sz.300810      中科海讯     国防军工                 申万一级行业\n",
      "\n",
      "[3854 rows x 5 columns]\n",
      "logout success!\n"
     ]
    },
    {
     "data": {
      "text/plain": [
       "<baostock.data.resultset.ResultData at 0x7f8f208e0ad0>"
      ]
     },
     "execution_count": 3,
     "metadata": {},
     "output_type": "execute_result"
    }
   ],
   "source": [
    "import baostock as bs\n",
    "import pandas as pd\n",
    "\n",
    "# 登陆系统\n",
    "lg = bs.login()\n",
    "# 显示登陆返回信息\n",
    "print('login respond error_code:'+lg.error_code)\n",
    "print('login respond  error_msg:'+lg.error_msg)\n",
    "\n",
    "# 获取行业分类数据\n",
    "rs = bs.query_stock_industry()\n",
    "# rs = bs.query_stock_basic(code_name=\"浦发银行\")\n",
    "print('query_stock_industry error_code:'+rs.error_code)\n",
    "print('query_stock_industry respond  error_msg:'+rs.error_msg)\n",
    "\n",
    "# 打印结果集\n",
    "industry_list = []\n",
    "while (rs.error_code == '0') & rs.next():\n",
    "    # 获取一条记录，将记录合并在一起\n",
    "    industry_list.append(rs.get_row_data())\n",
    "result = pd.DataFrame(industry_list, columns=rs.fields)\n",
    "# 结果集输出到csv文件\n",
    "result.to_csv(\"../data/stock_industry.csv\", encoding=\"utf-8\", index=False)\n",
    "print(result)\n",
    "\n",
    "# 登出系统\n",
    "bs.logout()"
   ]
  },
  {
   "cell_type": "code",
   "execution_count": 7,
   "metadata": {},
   "outputs": [
    {
     "name": "stdout",
     "output_type": "stream",
     "text": [
      "login success!\n",
      "login respond error_code:0\n",
      "login respond  error_msg:success\n",
      "query_history_k_data_plus respond error_code:0\n",
      "query_history_k_data_plus respond  error_msg:success\n",
      "          date       code    close     peTTM     pbMRQ     psTTM  pcfNcfTTM\n",
      "0   2020-01-02  sh.600000  12.4700  5.994733  0.762284  1.915555  -6.071904\n",
      "1   2020-01-03  sh.600000  12.6000  6.057229  0.770231  1.935525  -6.135204\n",
      "2   2020-01-06  sh.600000  12.4600  5.989926  0.761672  1.914019  -6.067035\n",
      "3   2020-01-07  sh.600000  12.5000  6.009155  0.764118  1.920164  -6.086512\n",
      "4   2020-01-08  sh.600000  12.3200  5.922624  0.753114  1.892513  -5.998866\n",
      "5   2020-01-09  sh.600000  12.3700  5.946660  0.756171  1.900194  -6.023212\n",
      "6   2020-01-10  sh.600000  12.3900  5.956275  0.757393  1.903266  -6.032950\n",
      "7   2020-01-13  sh.600000  12.4100  5.965890  0.758616  1.906338  -6.042689\n",
      "8   2020-01-14  sh.600000  12.4300  5.975504  0.759839  1.909411  -6.052427\n",
      "9   2020-01-15  sh.600000  12.2500  5.888972  0.748835  1.881760  -5.964781\n",
      "10  2020-01-16  sh.600000  12.2000  5.864936  0.745779  1.874080  -5.940435\n",
      "11  2020-01-17  sh.600000  12.2300  5.879358  0.747613  1.878688  -5.955043\n",
      "12  2020-01-20  sh.600000  12.2500  5.888972  0.748835  1.881760  -5.964781\n",
      "13  2020-01-21  sh.600000  12.0800  5.807248  0.738443  1.855646  -5.882005\n",
      "14  2020-01-22  sh.600000  11.7700  5.864338  0.719493  1.811724  -5.731059\n",
      "15  2020-01-23  sh.600000  11.3500  5.655075  0.693819  1.747074  -5.526553\n",
      "16  2020-02-03  sh.600000  10.4700  5.216620  0.640025  1.611618  -5.098062\n",
      "17  2020-02-04  sh.600000  10.6600  5.311286  0.651640  1.640865  -5.190577\n",
      "18  2020-02-05  sh.600000  10.7000  5.331216  0.654085  1.647022  -5.210054\n",
      "19  2020-02-06  sh.600000  10.7900  5.376058  0.659586  1.660875  -5.253877\n",
      "20  2020-02-07  sh.600000  10.8600  5.410935  0.663865  1.671650  -5.287961\n",
      "21  2020-02-10  sh.600000  10.7700  5.366093  0.658364  1.657797  -5.244138\n",
      "22  2020-02-11  sh.600000  10.8600  5.410935  0.663865  1.671650  -5.287961\n",
      "23  2020-02-12  sh.600000  10.8600  5.410935  0.663865  1.671650  -5.287961\n",
      "24  2020-02-13  sh.600000  10.7600  5.361111  0.657752  1.656257  -5.239269\n",
      "25  2020-02-14  sh.600000  10.8600  5.410935  0.663865  1.671650  -5.287961\n",
      "26  2020-02-17  sh.600000  11.1800  5.570373  0.683427  1.720907  -5.443776\n",
      "27  2020-02-18  sh.600000  11.0600  5.510584  0.676091  1.702435  -5.385345\n",
      "28  2020-02-19  sh.600000  11.1100  5.510584  0.676091  1.702435  -5.385345\n",
      "29  2020-02-20  sh.600000  11.2300  5.595285  0.686483  1.728603  -5.468122\n",
      "30  2020-02-21  sh.600000  11.3000  5.630163  0.690762  1.739378  -5.502206\n",
      "31  2020-02-24  sh.600000  11.1600  5.560408  0.682204  1.717828  -5.434038\n",
      "32  2020-02-25  sh.600000  11.0900  5.525531  0.677925  1.707053  -5.399953\n",
      "33  2020-02-26  sh.600000  11.2000  5.580338  0.684649  1.723985  -5.453514\n",
      "34  2020-02-27  sh.600000  11.2100  5.585321  0.685261  1.725525  -5.458384\n",
      "35  2020-02-28  sh.600000  10.8500  5.405953  0.663254  1.670111  -5.283092\n",
      "36  2020-03-02  sh.600000  11.0400  5.500619  0.674869  1.699357  -5.375607\n",
      "37  2020-03-03  sh.600000  11.0600  5.510584  0.676091  1.702435  -5.385345\n",
      "38  2020-03-04  sh.600000  11.0300  5.495637  0.674257  1.697818  -5.370738\n",
      "39  2020-03-05  sh.600000  11.3200  5.640127  0.691985  1.742457  -5.511945\n",
      "40  2020-03-06  sh.600000  11.1200  5.540479  0.679759  1.711671  -5.414561\n",
      "41  2020-03-09  sh.600000  10.7800  5.371075  0.658975  1.659336  -5.249008\n",
      "42  2020-03-10  sh.600000  10.8700  5.415917  0.664477  1.673189  -5.292830\n",
      "43  2020-03-11  sh.600000  10.7700  5.366093  0.658364  1.657797  -5.244138\n",
      "44  2020-03-12  sh.600000  10.6400  5.301321  0.650417  1.637786  -5.180839\n",
      "45  2020-03-13  sh.600000  10.7000  5.331216  0.654085  1.647022  -5.210054\n",
      "46  2020-03-16  sh.600000  10.5100  5.236549  0.642470  1.617775  -5.117539\n",
      "47  2020-03-17  sh.600000  10.4300  5.196690  0.637580  1.605461  -5.078585\n",
      "48  2020-03-18  sh.600000  10.2100  5.087076  0.624131  1.571597  -4.971463\n",
      "49  2020-03-19  sh.600000   9.9400  4.952550  0.607626  1.530037  -4.839994\n",
      "50  2020-03-20  sh.600000  10.0900  5.027287  0.616796  1.553126  -4.913032\n",
      "51  2020-03-23  sh.600000   9.8400  4.902726  0.601513  1.514644  -4.791302\n",
      "52  2020-03-24  sh.600000  10.0600  5.012339  0.614962  1.548508  -4.898425\n",
      "logout success!\n"
     ]
    },
    {
     "data": {
      "text/plain": [
       "<baostock.data.resultset.ResultData at 0x7f8f1e07be50>"
      ]
     },
     "execution_count": 7,
     "metadata": {},
     "output_type": "execute_result"
    }
   ],
   "source": [
    "import baostock as bs\n",
    "import pandas as pd\n",
    "\n",
    "#### 登陆系统 ####\n",
    "lg = bs.login()\n",
    "# 显示登陆返回信息\n",
    "print('login respond error_code:'+lg.error_code)\n",
    "print('login respond  error_msg:'+lg.error_msg)\n",
    "\n",
    "#### 获取沪深A股估值指标(日频)数据 ####\n",
    "# peTTM    滚动市盈率\n",
    "# psTTM    滚动市销率\n",
    "# pcfNcfTTM    滚动市现率\n",
    "# pbMRQ    市净率\n",
    "rs = bs.query_history_k_data_plus(\"sh.600000\",\n",
    "    \"date,code,close,peTTM,pbMRQ,psTTM,pcfNcfTTM\",\n",
    "    start_date='2020-01-01', end_date='2020-03-24', \n",
    "    frequency=\"d\", adjustflag=\"3\")\n",
    "print('query_history_k_data_plus respond error_code:'+rs.error_code)\n",
    "print('query_history_k_data_plus respond  error_msg:'+rs.error_msg)\n",
    "\n",
    "#### 打印结果集 ####\n",
    "result_list = []\n",
    "while (rs.error_code == '0') & rs.next():\n",
    "    # 获取一条记录，将记录合并在一起\n",
    "    result_list.append(rs.get_row_data())\n",
    "result = pd.DataFrame(result_list, columns=rs.fields)\n",
    "\n",
    "#### 结果集输出到csv文件 ####\n",
    "# result.to_csv(\"D:\\\\history_A_stock_valuation_indicator_data.csv\", encoding=\"gbk\", index=False)\n",
    "# print(result)\n",
    "print(result)\n",
    "\n",
    "#### 登出系统 ####\n",
    "bs.logout()"
   ]
  },
  {
   "cell_type": "code",
   "execution_count": 8,
   "metadata": {},
   "outputs": [],
   "source": [
    "import pymongo"
   ]
  },
  {
   "cell_type": "code",
   "execution_count": 9,
   "metadata": {},
   "outputs": [
    {
     "data": {
      "text/plain": [
       "'3.10.1'"
      ]
     },
     "execution_count": 9,
     "metadata": {},
     "output_type": "execute_result"
    }
   ],
   "source": [
    "pymongo.__version__"
   ]
  },
  {
   "cell_type": "code",
   "execution_count": 10,
   "metadata": {},
   "outputs": [],
   "source": [
    "from pymongo import MongoClient\n",
    "\n",
    "client = MongoClient('localhost', 27017)\n",
    "# client = MongoClient(\"mongodb://localhost:27017\")"
   ]
  },
  {
   "cell_type": "code",
   "execution_count": 11,
   "metadata": {},
   "outputs": [
    {
     "name": "stdout",
     "output_type": "stream",
     "text": [
      "MongoClient(host=['localhost:27017'], document_class=dict, tz_aware=False, connect=True)\n"
     ]
    }
   ],
   "source": [
    "print(client)"
   ]
  },
  {
   "cell_type": "code",
   "execution_count": null,
   "metadata": {},
   "outputs": [],
   "source": []
  }
 ],
 "metadata": {
  "kernelspec": {
   "display_name": "Python 3",
   "language": "python",
   "name": "python3"
  },
  "language_info": {
   "codemirror_mode": {
    "name": "ipython",
    "version": 3
   },
   "file_extension": ".py",
   "mimetype": "text/x-python",
   "name": "python",
   "nbconvert_exporter": "python",
   "pygments_lexer": "ipython3",
   "version": "3.7.4"
  }
 },
 "nbformat": 4,
 "nbformat_minor": 2
}
