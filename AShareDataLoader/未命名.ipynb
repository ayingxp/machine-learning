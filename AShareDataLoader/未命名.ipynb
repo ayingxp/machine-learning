{
 "cells": [
  {
   "cell_type": "markdown",
   "metadata": {},
   "source": [
    "# 获取Ａ股相关数据"
   ]
  },
  {
   "cell_type": "code",
   "execution_count": 3,
   "metadata": {},
   "outputs": [
    {
     "name": "stdout",
     "output_type": "stream",
     "text": [
      "login success!\n",
      "login respond error_code:0\n",
      "login respond  error_msg:success\n",
      "query_stock_industry error_code:0\n",
      "query_stock_industry respond  error_msg:success\n",
      "      updateDate       code code_name industry industryClassification\n",
      "0     2019-12-09  sh.600000      浦发银行       银行                 申万一级行业\n",
      "1     2019-12-09  sh.600001      邯郸钢铁                          申万一级行业\n",
      "2     2019-12-09  sh.600002      齐鲁石化                          申万一级行业\n",
      "3     2019-12-09  sh.600003     ST东北高                          申万一级行业\n",
      "4     2019-12-09  sh.600004      白云机场     交通运输                 申万一级行业\n",
      "...          ...        ...       ...      ...                    ...\n",
      "3849  2019-12-09  sz.300805      电声股份       传媒                 申万一级行业\n",
      "3850  2019-12-09  sz.300806       斯迪克       化工                 申万一级行业\n",
      "3851  2019-12-09  sz.300808      久量股份       电子                 申万一级行业\n",
      "3852  2019-12-09  sz.300809      华辰装备     机械设备                 申万一级行业\n",
      "3853  2019-12-09  sz.300810      中科海讯     国防军工                 申万一级行业\n",
      "\n",
      "[3854 rows x 5 columns]\n",
      "logout success!\n"
     ]
    },
    {
     "data": {
      "text/plain": [
       "<baostock.data.resultset.ResultData at 0x7f8f208e0ad0>"
      ]
     },
     "execution_count": 3,
     "metadata": {},
     "output_type": "execute_result"
    }
   ],
   "source": [
    "import baostock as bs\n",
    "import pandas as pd\n",
    "\n",
    "# 登陆系统\n",
    "lg = bs.login()\n",
    "# 显示登陆返回信息\n",
    "print('login respond error_code:'+lg.error_code)\n",
    "print('login respond  error_msg:'+lg.error_msg)\n",
    "\n",
    "# 获取行业分类数据\n",
    "rs = bs.query_stock_industry()\n",
    "# rs = bs.query_stock_basic(code_name=\"浦发银行\")\n",
    "print('query_stock_industry error_code:'+rs.error_code)\n",
    "print('query_stock_industry respond  error_msg:'+rs.error_msg)\n",
    "\n",
    "# 打印结果集\n",
    "industry_list = []\n",
    "while (rs.error_code == '0') & rs.next():\n",
    "    # 获取一条记录，将记录合并在一起\n",
    "    industry_list.append(rs.get_row_data())\n",
    "result = pd.DataFrame(industry_list, columns=rs.fields)\n",
    "# 结果集输出到csv文件\n",
    "result.to_csv(\"../data/stock_industry.csv\", encoding=\"utf-8\", index=False)\n",
    "print(result)\n",
    "\n",
    "# 登出系统\n",
    "bs.logout()"
   ]
  },
  {
   "cell_type": "code",
   "execution_count": null,
   "metadata": {},
   "outputs": [],
   "source": [
    "import baostock as bs\n",
    "import pandas as pd\n",
    "\n",
    "#### 登陆系统 ####\n",
    "lg = bs.login()\n",
    "# 显示登陆返回信息\n",
    "print('login respond error_code:'+lg.error_code)\n",
    "print('login respond  error_msg:'+lg.error_msg)\n",
    "\n",
    "#### 获取沪深A股估值指标(日频)数据 ####\n",
    "# peTTM    滚动市盈率\n",
    "# psTTM    滚动市销率\n",
    "# pcfNcfTTM    滚动市现率\n",
    "# pbMRQ    市净率\n",
    "rs = bs.query_history_k_data_plus(\"sh.600000\",\n",
    "    \"date,code,close,peTTM,pbMRQ,psTTM,pcfNcfTTM\",\n",
    "    start_date='2015-01-01', end_date='2017-12-31', \n",
    "    frequency=\"d\", adjustflag=\"3\")\n",
    "print('query_history_k_data_plus respond error_code:'+rs.error_code)\n",
    "print('query_history_k_data_plus respond  error_msg:'+rs.error_msg)\n",
    "\n",
    "#### 打印结果集 ####\n",
    "result_list = []\n",
    "while (rs.error_code == '0') & rs.next():\n",
    "    # 获取一条记录，将记录合并在一起\n",
    "    result_list.append(rs.get_row_data())\n",
    "result = pd.DataFrame(result_list, columns=rs.fields)\n",
    "\n",
    "#### 结果集输出到csv文件 ####\n",
    "# result.to_csv(\"D:\\\\history_A_stock_valuation_indicator_data.csv\", encoding=\"gbk\", index=False)\n",
    "# print(result)\n",
    "print(result)\n",
    "\n",
    "#### 登出系统 ####\n",
    "bs.logout()"
   ]
  }
 ],
 "metadata": {
  "kernelspec": {
   "display_name": "Python 3",
   "language": "python",
   "name": "python3"
  },
  "language_info": {
   "codemirror_mode": {
    "name": "ipython",
    "version": 3
   },
   "file_extension": ".py",
   "mimetype": "text/x-python",
   "name": "python",
   "nbconvert_exporter": "python",
   "pygments_lexer": "ipython3",
   "version": "3.7.4"
  }
 },
 "nbformat": 4,
 "nbformat_minor": 2
}
